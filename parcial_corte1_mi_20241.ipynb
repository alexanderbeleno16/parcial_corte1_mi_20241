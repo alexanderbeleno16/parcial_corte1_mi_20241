{
  "nbformat": 4,
  "nbformat_minor": 0,
  "metadata": {
    "colab": {
      "provenance": [],
      "toc_visible": true,
      "mount_file_id": "1dGEGjcQYfKC8hvDlJNngxd9EXUwTT5KA",
      "authorship_tag": "ABX9TyOXbWeClWAhbroks8V0qPnR",
      "include_colab_link": true
    },
    "kernelspec": {
      "name": "python3",
      "display_name": "Python 3"
    },
    "language_info": {
      "name": "python"
    }
  },
  "cells": [
    {
      "cell_type": "markdown",
      "metadata": {
        "id": "view-in-github",
        "colab_type": "text"
      },
      "source": [
        "<a href=\"https://colab.research.google.com/github/alexanderbeleno16/parcial_corte1_mi_20241/blob/main/parcial_corte1_mi_20241.ipynb\" target=\"_parent\"><img src=\"https://colab.research.google.com/assets/colab-badge.svg\" alt=\"Open In Colab\"/></a>"
      ]
    },
    {
      "cell_type": "markdown",
      "source": [
        "# **PARCIAL CORTE 1 MI 2024-1 NOCTURNO**\n",
        "\n",
        "## CORPORACIÓN UNIVERSITARIA LATINOAMERICANA\n",
        "\n",
        "### PRESENTADO POR:\n",
        "\n",
        "### ALEXANDER BELEÑO, VANESSA BAENA, JHON DIAZ\n"
      ],
      "metadata": {
        "id": "aote-4ApClK1"
      }
    },
    {
      "cell_type": "markdown",
      "source": [
        "## **INFORMACIÓN RELACIONADA AL DATASET**\n",
        "Vía 5 - Municipio de Chía\n",
        "Datos georreferenciados sobre vías principales del Municipio de Chía en zona urbana.\n",
        "\n",
        "El dataset sobre \"Vía 5 - Municipio de Chía\" proporciona datos georreferenciados sobre las vías principales ubicadas en la zona urbana del municipio de Chía. Estos datos pueden incluir información detallada sobre las características de las vías, como su ubicación geográfica precisa, longitud y ancho de la vía, tipo de pavimentación, número de carriles, límites de velocidad, presencia de señalización vial, entre otros aspectos relevantes para la planificación urbana y la gestión del tráfico.\n",
        "\n",
        "La descripción del dataset puede ofrecer insights valiosos sobre la infraestructura vial en el municipio de Chía, lo que puede ser útil para diversos fines, como el desarrollo de políticas públicas, la planificación del transporte, la seguridad vial, el desarrollo urbano sostenible, entre otros. Además, estos datos georreferenciados pueden ser utilizados en sistemas de información geográfica (GIS) para análisis espaciales y visualización de mapas, lo que permite una comprensión más completa y detallada de la red vial del municipio y su entorno."
      ],
      "metadata": {
        "id": "0ajMSwcKSKP5"
      }
    },
    {
      "cell_type": "markdown",
      "source": [
        "## **REFERENCIA DEL DATASET**\n",
        "https://www.datos.gov.co/Ordenamiento-Territorial/V-a-5-Municipio-de-Ch-a/e49y-vcxq\n",
        "\n",
        "### **Enlace de descarga directa:**\n",
        "https://www.datos.gov.co/api/views/dvvz-j9p4/rows.csv?accessType=DOWNLOAD"
      ],
      "metadata": {
        "id": "Sh9yck3oN60Y"
      }
    },
    {
      "cell_type": "markdown",
      "source": [
        "## **IMPORTACIÓN DE LIBRERIAS**\n",
        "En esta sección del código se realizan las importaciones correspondientes a cada librería que permitiran la realización exitosa de la lectura y el tratamiento de los datos del archivo \".csv\"."
      ],
      "metadata": {
        "id": "TE9bjXMUEzbV"
      }
    },
    {
      "cell_type": "code",
      "execution_count": 124,
      "metadata": {
        "id": "Y09becwgCjnm"
      },
      "outputs": [],
      "source": [
        "import pandas as pd\n",
        "import numpy as np\n",
        "import matplotlib.pyplot as plt"
      ]
    },
    {
      "cell_type": "markdown",
      "source": [
        "## **CARGUE Y LECTURA DEL ARCHIVO CSV**\n",
        "En esta sección del código se carga los datos del archivo CSV en un objeto llamado data_frame"
      ],
      "metadata": {
        "id": "FA2I_H5FHYnI"
      }
    },
    {
      "cell_type": "code",
      "source": [
        "data_frame = pd.read_csv('drive/MyDrive/files/V5.csv')"
      ],
      "metadata": {
        "id": "d3HD2lI3HqsX"
      },
      "execution_count": 125,
      "outputs": []
    },
    {
      "cell_type": "markdown",
      "source": [
        "## **NOMBRE Y TIPO DE DATOS DE LAS COLUMNAS**\n",
        "\n",
        "La función **data_frame.info()** en Pandas proporciona un resumen conciso de la estructura y la información básica sobre el DataFrame cargado. RangeIndex: 522 entries, 0 to 521: Indica que el DataFrame tiene un índice que va desde 0 hasta 521, y contiene un total de 522 filas (entradas).\n",
        "\n",
        "**Data columns (total 11 columns):** Indica que hay un total de 11 columnas en el DataFrame.\n",
        "\n",
        "**Column:** Lista los nombres de las columnas.\n",
        "\n",
        "**Non-Null Count:** Muestra el número de valores no nulos en cada columna, lo que indica cuántos valores válidos hay en cada columna. En este caso, todas las columnas tienen 522 valores no nulos, lo que significa que no hay valores faltantes en ninguna columna."
      ],
      "metadata": {
        "id": "lxDcxILhMCRp"
      }
    },
    {
      "cell_type": "code",
      "source": [
        "data_frame.info()"
      ],
      "metadata": {
        "colab": {
          "base_uri": "https://localhost:8080/"
        },
        "id": "HqMifW3uM8GK",
        "outputId": "7fe28e56-62dc-4d66-e0c3-b5e796b6936a"
      },
      "execution_count": 126,
      "outputs": [
        {
          "output_type": "stream",
          "name": "stdout",
          "text": [
            "<class 'pandas.core.frame.DataFrame'>\n",
            "RangeIndex: 522 entries, 0 to 521\n",
            "Data columns (total 11 columns):\n",
            " #   Column      Non-Null Count  Dtype  \n",
            "---  ------      --------------  -----  \n",
            " 0   FID_        522 non-null    int64  \n",
            " 1   OBJECTID    522 non-null    int64  \n",
            " 2   the_geom    522 non-null    object \n",
            " 3   Entity      522 non-null    object \n",
            " 4   Layer       522 non-null    object \n",
            " 5   Color       522 non-null    int64  \n",
            " 6   Linetype    522 non-null    object \n",
            " 7   Elevation   522 non-null    float64\n",
            " 8   LineWt      522 non-null    int64  \n",
            " 9   RefName     0 non-null      float64\n",
            " 10  Shape_Leng  522 non-null    float64\n",
            "dtypes: float64(3), int64(4), object(4)\n",
            "memory usage: 45.0+ KB\n"
          ]
        }
      ]
    },
    {
      "cell_type": "markdown",
      "source": [
        "## **LIMPIEZA DE LA DATA**\n",
        "\n",
        "ANTES DE TRABAJAR LOS DATOS ES MUY IMPORTANTE CONOCERLOS Y LIMPIARLO PARA EVITAR DISTORCIONES.\n",
        "\n",
        "Para este caso proceseremos con la limpieza de los datos de las columnas con las que vamos a trabajar,\n",
        "en este caso las columnas \"Shape_Leng\"\n",
        "\n",
        "**COLUMNA Shape_Leng:**\n",
        "Redondeamos los decimales a enteros para la realizacion de la actividad.\n",
        "Esto dividirá cada valor en la columna 'Shape_Leng' por 10, redondeará al entero más cercano y luego multiplicará por 10 nuevamente, lo que dará como resultado la aproximación al múltiplo de 10 más cercano.\n"
      ],
      "metadata": {
        "id": "T2XAPG6o3Z-r"
      }
    },
    {
      "cell_type": "code",
      "source": [
        "# data_frame['Shape_Leng'] = data_frame['Shape_Leng'].round().astype(int)\n",
        "data_frame['Shape_Leng'] = (data_frame['Shape_Leng'] / 10).round().astype(int) * 10\n",
        "\n",
        "data_frame['Shape_Leng']"
      ],
      "metadata": {
        "id": "YyCnXVii3dgE",
        "colab": {
          "base_uri": "https://localhost:8080/"
        },
        "outputId": "1cf13151-dd7b-43ee-feaf-dce1b1919862"
      },
      "execution_count": 127,
      "outputs": [
        {
          "output_type": "execute_result",
          "data": {
            "text/plain": [
              "0       60\n",
              "1      290\n",
              "2      290\n",
              "3       80\n",
              "4       80\n",
              "      ... \n",
              "517    290\n",
              "518    170\n",
              "519    170\n",
              "520     80\n",
              "521     80\n",
              "Name: Shape_Leng, Length: 522, dtype: int64"
            ]
          },
          "metadata": {},
          "execution_count": 127
        }
      ]
    },
    {
      "cell_type": "markdown",
      "source": [
        "Con la informacion anterior verificamos que no hay datos faltantes o nulos en nuestras columnas porque todas tienen el mismo valor (misma cantidad), lo cual es muy importante para verificar la integridad de nuestros datos.\n",
        "Tambien verificamos la integridad de nuestras columnas cuantitativas (por el tipo de dato numerico) los cuales solo deben tener valores valores numericos.\n",
        "\n",
        "Lo mas importante, en base al analisis que se va a realizar, aca podemos eliminar las columnas no seran necesaria en nuestro analisis, en este caso serian:\n",
        "\n",
        "*   Columna \"RefName\" el cual está vacia.\n",
        "\n",
        "*   Columna \"the_geom\" el cual no se tratara, manipulara o mostrara este dato/columna.\n"
      ],
      "metadata": {
        "id": "UzJkg36ph14m"
      }
    },
    {
      "cell_type": "code",
      "source": [
        "data_frame.pop('RefName')\n",
        "data_frame.pop('the_geom')"
      ],
      "metadata": {
        "colab": {
          "base_uri": "https://localhost:8080/"
        },
        "id": "iOv_8rEXh2Pt",
        "outputId": "f7231615-607b-4a85-bf36-c674cdd639e4"
      },
      "execution_count": 128,
      "outputs": [
        {
          "output_type": "execute_result",
          "data": {
            "text/plain": [
              "0      MULTILINESTRING ((-74.05283799729392 4.8705298...\n",
              "1      MULTILINESTRING ((-74.07886616956603 4.8471705...\n",
              "2      MULTILINESTRING ((-74.07892744734691 4.8470645...\n",
              "3      MULTILINESTRING ((-74.08362992290571 4.8499361...\n",
              "4      MULTILINESTRING ((-74.08369236813222 4.8498313...\n",
              "                             ...                        \n",
              "517    MULTILINESTRING ((-74.05353203883644 4.8469334...\n",
              "518    MULTILINESTRING ((-74.05668631486583 4.8845816...\n",
              "519    MULTILINESTRING ((-74.05679755395732 4.8846310...\n",
              "520    MULTILINESTRING ((-74.04825648629095 4.8686577...\n",
              "521    MULTILINESTRING ((-74.04818026660867 4.8687551...\n",
              "Name: the_geom, Length: 522, dtype: object"
            ]
          },
          "metadata": {},
          "execution_count": 128
        }
      ]
    },
    {
      "cell_type": "markdown",
      "source": [
        "Comprobamos nuevamente los datos."
      ],
      "metadata": {
        "id": "qDwVh4UDi68A"
      }
    },
    {
      "cell_type": "code",
      "source": [
        "data_frame.info()"
      ],
      "metadata": {
        "colab": {
          "base_uri": "https://localhost:8080/"
        },
        "id": "AN_0Ubwji4gw",
        "outputId": "31e13c61-aa78-4730-e559-3e74ebb38351"
      },
      "execution_count": 129,
      "outputs": [
        {
          "output_type": "stream",
          "name": "stdout",
          "text": [
            "<class 'pandas.core.frame.DataFrame'>\n",
            "RangeIndex: 522 entries, 0 to 521\n",
            "Data columns (total 9 columns):\n",
            " #   Column      Non-Null Count  Dtype  \n",
            "---  ------      --------------  -----  \n",
            " 0   FID_        522 non-null    int64  \n",
            " 1   OBJECTID    522 non-null    int64  \n",
            " 2   Entity      522 non-null    object \n",
            " 3   Layer       522 non-null    object \n",
            " 4   Color       522 non-null    int64  \n",
            " 5   Linetype    522 non-null    object \n",
            " 6   Elevation   522 non-null    float64\n",
            " 7   LineWt      522 non-null    int64  \n",
            " 8   Shape_Leng  522 non-null    int64  \n",
            "dtypes: float64(1), int64(5), object(3)\n",
            "memory usage: 36.8+ KB\n"
          ]
        }
      ]
    },
    {
      "cell_type": "markdown",
      "source": [
        "## **PRIMEROS 5 REGISTROS**\n",
        "\n",
        "La función data_frame.head() en Pandas se utiliza para mostrar las primeras filas del DataFrame. Por defecto, **muestra las primeras 5 filas** pero este número puede cambiar si así se desea. Esta función es útil para obtener una vista previa rápida de cómo se ven los datos en el DataFrame sin tener que mostrar todo el conjunto de datos, lo que puede ser especialmente útil si el DataFrame es grande."
      ],
      "metadata": {
        "id": "CRbfuGSf37wU"
      }
    },
    {
      "cell_type": "code",
      "source": [
        "data_frame.head()"
      ],
      "metadata": {
        "colab": {
          "base_uri": "https://localhost:8080/",
          "height": 206
        },
        "id": "2PxpMOpJ4bgV",
        "outputId": "de8a53ed-3fba-43d5-ccd3-deec56016201"
      },
      "execution_count": 130,
      "outputs": [
        {
          "output_type": "execute_result",
          "data": {
            "text/plain": [
              "   FID_  OBJECTID      Entity       Layer  Color    Linetype  Elevation  \\\n",
              "0     0         1  LWPolyline  vias 13.50    130  Continuous        0.0   \n",
              "1     0         2  LWPolyline  vias 13.50    130  Continuous        0.0   \n",
              "2     0         3  LWPolyline  vias 13.50    130  Continuous        0.0   \n",
              "3     0         4  LWPolyline  vias 13.50    130  Continuous        0.0   \n",
              "4     0         5  LWPolyline  vias 13.50    130  Continuous        0.0   \n",
              "\n",
              "   LineWt  Shape_Leng  \n",
              "0      30          60  \n",
              "1      30         290  \n",
              "2      30         290  \n",
              "3      30          80  \n",
              "4      30          80  "
            ],
            "text/html": [
              "\n",
              "  <div id=\"df-15389a84-8070-4eb7-be65-8141ea44352d\" class=\"colab-df-container\">\n",
              "    <div>\n",
              "<style scoped>\n",
              "    .dataframe tbody tr th:only-of-type {\n",
              "        vertical-align: middle;\n",
              "    }\n",
              "\n",
              "    .dataframe tbody tr th {\n",
              "        vertical-align: top;\n",
              "    }\n",
              "\n",
              "    .dataframe thead th {\n",
              "        text-align: right;\n",
              "    }\n",
              "</style>\n",
              "<table border=\"1\" class=\"dataframe\">\n",
              "  <thead>\n",
              "    <tr style=\"text-align: right;\">\n",
              "      <th></th>\n",
              "      <th>FID_</th>\n",
              "      <th>OBJECTID</th>\n",
              "      <th>Entity</th>\n",
              "      <th>Layer</th>\n",
              "      <th>Color</th>\n",
              "      <th>Linetype</th>\n",
              "      <th>Elevation</th>\n",
              "      <th>LineWt</th>\n",
              "      <th>Shape_Leng</th>\n",
              "    </tr>\n",
              "  </thead>\n",
              "  <tbody>\n",
              "    <tr>\n",
              "      <th>0</th>\n",
              "      <td>0</td>\n",
              "      <td>1</td>\n",
              "      <td>LWPolyline</td>\n",
              "      <td>vias 13.50</td>\n",
              "      <td>130</td>\n",
              "      <td>Continuous</td>\n",
              "      <td>0.0</td>\n",
              "      <td>30</td>\n",
              "      <td>60</td>\n",
              "    </tr>\n",
              "    <tr>\n",
              "      <th>1</th>\n",
              "      <td>0</td>\n",
              "      <td>2</td>\n",
              "      <td>LWPolyline</td>\n",
              "      <td>vias 13.50</td>\n",
              "      <td>130</td>\n",
              "      <td>Continuous</td>\n",
              "      <td>0.0</td>\n",
              "      <td>30</td>\n",
              "      <td>290</td>\n",
              "    </tr>\n",
              "    <tr>\n",
              "      <th>2</th>\n",
              "      <td>0</td>\n",
              "      <td>3</td>\n",
              "      <td>LWPolyline</td>\n",
              "      <td>vias 13.50</td>\n",
              "      <td>130</td>\n",
              "      <td>Continuous</td>\n",
              "      <td>0.0</td>\n",
              "      <td>30</td>\n",
              "      <td>290</td>\n",
              "    </tr>\n",
              "    <tr>\n",
              "      <th>3</th>\n",
              "      <td>0</td>\n",
              "      <td>4</td>\n",
              "      <td>LWPolyline</td>\n",
              "      <td>vias 13.50</td>\n",
              "      <td>130</td>\n",
              "      <td>Continuous</td>\n",
              "      <td>0.0</td>\n",
              "      <td>30</td>\n",
              "      <td>80</td>\n",
              "    </tr>\n",
              "    <tr>\n",
              "      <th>4</th>\n",
              "      <td>0</td>\n",
              "      <td>5</td>\n",
              "      <td>LWPolyline</td>\n",
              "      <td>vias 13.50</td>\n",
              "      <td>130</td>\n",
              "      <td>Continuous</td>\n",
              "      <td>0.0</td>\n",
              "      <td>30</td>\n",
              "      <td>80</td>\n",
              "    </tr>\n",
              "  </tbody>\n",
              "</table>\n",
              "</div>\n",
              "    <div class=\"colab-df-buttons\">\n",
              "\n",
              "  <div class=\"colab-df-container\">\n",
              "    <button class=\"colab-df-convert\" onclick=\"convertToInteractive('df-15389a84-8070-4eb7-be65-8141ea44352d')\"\n",
              "            title=\"Convert this dataframe to an interactive table.\"\n",
              "            style=\"display:none;\">\n",
              "\n",
              "  <svg xmlns=\"http://www.w3.org/2000/svg\" height=\"24px\" viewBox=\"0 -960 960 960\">\n",
              "    <path d=\"M120-120v-720h720v720H120Zm60-500h600v-160H180v160Zm220 220h160v-160H400v160Zm0 220h160v-160H400v160ZM180-400h160v-160H180v160Zm440 0h160v-160H620v160ZM180-180h160v-160H180v160Zm440 0h160v-160H620v160Z\"/>\n",
              "  </svg>\n",
              "    </button>\n",
              "\n",
              "  <style>\n",
              "    .colab-df-container {\n",
              "      display:flex;\n",
              "      gap: 12px;\n",
              "    }\n",
              "\n",
              "    .colab-df-convert {\n",
              "      background-color: #E8F0FE;\n",
              "      border: none;\n",
              "      border-radius: 50%;\n",
              "      cursor: pointer;\n",
              "      display: none;\n",
              "      fill: #1967D2;\n",
              "      height: 32px;\n",
              "      padding: 0 0 0 0;\n",
              "      width: 32px;\n",
              "    }\n",
              "\n",
              "    .colab-df-convert:hover {\n",
              "      background-color: #E2EBFA;\n",
              "      box-shadow: 0px 1px 2px rgba(60, 64, 67, 0.3), 0px 1px 3px 1px rgba(60, 64, 67, 0.15);\n",
              "      fill: #174EA6;\n",
              "    }\n",
              "\n",
              "    .colab-df-buttons div {\n",
              "      margin-bottom: 4px;\n",
              "    }\n",
              "\n",
              "    [theme=dark] .colab-df-convert {\n",
              "      background-color: #3B4455;\n",
              "      fill: #D2E3FC;\n",
              "    }\n",
              "\n",
              "    [theme=dark] .colab-df-convert:hover {\n",
              "      background-color: #434B5C;\n",
              "      box-shadow: 0px 1px 3px 1px rgba(0, 0, 0, 0.15);\n",
              "      filter: drop-shadow(0px 1px 2px rgba(0, 0, 0, 0.3));\n",
              "      fill: #FFFFFF;\n",
              "    }\n",
              "  </style>\n",
              "\n",
              "    <script>\n",
              "      const buttonEl =\n",
              "        document.querySelector('#df-15389a84-8070-4eb7-be65-8141ea44352d button.colab-df-convert');\n",
              "      buttonEl.style.display =\n",
              "        google.colab.kernel.accessAllowed ? 'block' : 'none';\n",
              "\n",
              "      async function convertToInteractive(key) {\n",
              "        const element = document.querySelector('#df-15389a84-8070-4eb7-be65-8141ea44352d');\n",
              "        const dataTable =\n",
              "          await google.colab.kernel.invokeFunction('convertToInteractive',\n",
              "                                                    [key], {});\n",
              "        if (!dataTable) return;\n",
              "\n",
              "        const docLinkHtml = 'Like what you see? Visit the ' +\n",
              "          '<a target=\"_blank\" href=https://colab.research.google.com/notebooks/data_table.ipynb>data table notebook</a>'\n",
              "          + ' to learn more about interactive tables.';\n",
              "        element.innerHTML = '';\n",
              "        dataTable['output_type'] = 'display_data';\n",
              "        await google.colab.output.renderOutput(dataTable, element);\n",
              "        const docLink = document.createElement('div');\n",
              "        docLink.innerHTML = docLinkHtml;\n",
              "        element.appendChild(docLink);\n",
              "      }\n",
              "    </script>\n",
              "  </div>\n",
              "\n",
              "\n",
              "<div id=\"df-a5cd05c1-ab58-455c-88b9-a471870235b4\">\n",
              "  <button class=\"colab-df-quickchart\" onclick=\"quickchart('df-a5cd05c1-ab58-455c-88b9-a471870235b4')\"\n",
              "            title=\"Suggest charts\"\n",
              "            style=\"display:none;\">\n",
              "\n",
              "<svg xmlns=\"http://www.w3.org/2000/svg\" height=\"24px\"viewBox=\"0 0 24 24\"\n",
              "     width=\"24px\">\n",
              "    <g>\n",
              "        <path d=\"M19 3H5c-1.1 0-2 .9-2 2v14c0 1.1.9 2 2 2h14c1.1 0 2-.9 2-2V5c0-1.1-.9-2-2-2zM9 17H7v-7h2v7zm4 0h-2V7h2v10zm4 0h-2v-4h2v4z\"/>\n",
              "    </g>\n",
              "</svg>\n",
              "  </button>\n",
              "\n",
              "<style>\n",
              "  .colab-df-quickchart {\n",
              "      --bg-color: #E8F0FE;\n",
              "      --fill-color: #1967D2;\n",
              "      --hover-bg-color: #E2EBFA;\n",
              "      --hover-fill-color: #174EA6;\n",
              "      --disabled-fill-color: #AAA;\n",
              "      --disabled-bg-color: #DDD;\n",
              "  }\n",
              "\n",
              "  [theme=dark] .colab-df-quickchart {\n",
              "      --bg-color: #3B4455;\n",
              "      --fill-color: #D2E3FC;\n",
              "      --hover-bg-color: #434B5C;\n",
              "      --hover-fill-color: #FFFFFF;\n",
              "      --disabled-bg-color: #3B4455;\n",
              "      --disabled-fill-color: #666;\n",
              "  }\n",
              "\n",
              "  .colab-df-quickchart {\n",
              "    background-color: var(--bg-color);\n",
              "    border: none;\n",
              "    border-radius: 50%;\n",
              "    cursor: pointer;\n",
              "    display: none;\n",
              "    fill: var(--fill-color);\n",
              "    height: 32px;\n",
              "    padding: 0;\n",
              "    width: 32px;\n",
              "  }\n",
              "\n",
              "  .colab-df-quickchart:hover {\n",
              "    background-color: var(--hover-bg-color);\n",
              "    box-shadow: 0 1px 2px rgba(60, 64, 67, 0.3), 0 1px 3px 1px rgba(60, 64, 67, 0.15);\n",
              "    fill: var(--button-hover-fill-color);\n",
              "  }\n",
              "\n",
              "  .colab-df-quickchart-complete:disabled,\n",
              "  .colab-df-quickchart-complete:disabled:hover {\n",
              "    background-color: var(--disabled-bg-color);\n",
              "    fill: var(--disabled-fill-color);\n",
              "    box-shadow: none;\n",
              "  }\n",
              "\n",
              "  .colab-df-spinner {\n",
              "    border: 2px solid var(--fill-color);\n",
              "    border-color: transparent;\n",
              "    border-bottom-color: var(--fill-color);\n",
              "    animation:\n",
              "      spin 1s steps(1) infinite;\n",
              "  }\n",
              "\n",
              "  @keyframes spin {\n",
              "    0% {\n",
              "      border-color: transparent;\n",
              "      border-bottom-color: var(--fill-color);\n",
              "      border-left-color: var(--fill-color);\n",
              "    }\n",
              "    20% {\n",
              "      border-color: transparent;\n",
              "      border-left-color: var(--fill-color);\n",
              "      border-top-color: var(--fill-color);\n",
              "    }\n",
              "    30% {\n",
              "      border-color: transparent;\n",
              "      border-left-color: var(--fill-color);\n",
              "      border-top-color: var(--fill-color);\n",
              "      border-right-color: var(--fill-color);\n",
              "    }\n",
              "    40% {\n",
              "      border-color: transparent;\n",
              "      border-right-color: var(--fill-color);\n",
              "      border-top-color: var(--fill-color);\n",
              "    }\n",
              "    60% {\n",
              "      border-color: transparent;\n",
              "      border-right-color: var(--fill-color);\n",
              "    }\n",
              "    80% {\n",
              "      border-color: transparent;\n",
              "      border-right-color: var(--fill-color);\n",
              "      border-bottom-color: var(--fill-color);\n",
              "    }\n",
              "    90% {\n",
              "      border-color: transparent;\n",
              "      border-bottom-color: var(--fill-color);\n",
              "    }\n",
              "  }\n",
              "</style>\n",
              "\n",
              "  <script>\n",
              "    async function quickchart(key) {\n",
              "      const quickchartButtonEl =\n",
              "        document.querySelector('#' + key + ' button');\n",
              "      quickchartButtonEl.disabled = true;  // To prevent multiple clicks.\n",
              "      quickchartButtonEl.classList.add('colab-df-spinner');\n",
              "      try {\n",
              "        const charts = await google.colab.kernel.invokeFunction(\n",
              "            'suggestCharts', [key], {});\n",
              "      } catch (error) {\n",
              "        console.error('Error during call to suggestCharts:', error);\n",
              "      }\n",
              "      quickchartButtonEl.classList.remove('colab-df-spinner');\n",
              "      quickchartButtonEl.classList.add('colab-df-quickchart-complete');\n",
              "    }\n",
              "    (() => {\n",
              "      let quickchartButtonEl =\n",
              "        document.querySelector('#df-a5cd05c1-ab58-455c-88b9-a471870235b4 button');\n",
              "      quickchartButtonEl.style.display =\n",
              "        google.colab.kernel.accessAllowed ? 'block' : 'none';\n",
              "    })();\n",
              "  </script>\n",
              "</div>\n",
              "\n",
              "    </div>\n",
              "  </div>\n"
            ],
            "application/vnd.google.colaboratory.intrinsic+json": {
              "type": "dataframe",
              "variable_name": "data_frame",
              "summary": "{\n  \"name\": \"data_frame\",\n  \"rows\": 522,\n  \"fields\": [\n    {\n      \"column\": \"FID_\",\n      \"properties\": {\n        \"dtype\": \"number\",\n        \"std\": 0,\n        \"min\": 0,\n        \"max\": 0,\n        \"num_unique_values\": 1,\n        \"samples\": [\n          0\n        ],\n        \"semantic_type\": \"\",\n        \"description\": \"\"\n      }\n    },\n    {\n      \"column\": \"OBJECTID\",\n      \"properties\": {\n        \"dtype\": \"number\",\n        \"std\": 150,\n        \"min\": 1,\n        \"max\": 522,\n        \"num_unique_values\": 522,\n        \"samples\": [\n          434\n        ],\n        \"semantic_type\": \"\",\n        \"description\": \"\"\n      }\n    },\n    {\n      \"column\": \"Entity\",\n      \"properties\": {\n        \"dtype\": \"category\",\n        \"num_unique_values\": 3,\n        \"samples\": [\n          \"LWPolyline\"\n        ],\n        \"semantic_type\": \"\",\n        \"description\": \"\"\n      }\n    },\n    {\n      \"column\": \"Layer\",\n      \"properties\": {\n        \"dtype\": \"category\",\n        \"num_unique_values\": 2,\n        \"samples\": [\n          \"VIAS POR CONCLUIR\"\n        ],\n        \"semantic_type\": \"\",\n        \"description\": \"\"\n      }\n    },\n    {\n      \"column\": \"Color\",\n      \"properties\": {\n        \"dtype\": \"number\",\n        \"std\": 5,\n        \"min\": 40,\n        \"max\": 130,\n        \"num_unique_values\": 2,\n        \"samples\": [\n          40\n        ],\n        \"semantic_type\": \"\",\n        \"description\": \"\"\n      }\n    },\n    {\n      \"column\": \"Linetype\",\n      \"properties\": {\n        \"dtype\": \"category\",\n        \"num_unique_values\": 1,\n        \"samples\": [\n          \"Continuous\"\n        ],\n        \"semantic_type\": \"\",\n        \"description\": \"\"\n      }\n    },\n    {\n      \"column\": \"Elevation\",\n      \"properties\": {\n        \"dtype\": \"number\",\n        \"std\": 0.02955707803672355,\n        \"min\": 0.0,\n        \"max\": 0.6753,\n        \"num_unique_values\": 2,\n        \"samples\": [\n          0.6753\n        ],\n        \"semantic_type\": \"\",\n        \"description\": \"\"\n      }\n    },\n    {\n      \"column\": \"LineWt\",\n      \"properties\": {\n        \"dtype\": \"number\",\n        \"std\": 1,\n        \"min\": 0,\n        \"max\": 30,\n        \"num_unique_values\": 2,\n        \"samples\": [\n          0\n        ],\n        \"semantic_type\": \"\",\n        \"description\": \"\"\n      }\n    },\n    {\n      \"column\": \"Shape_Leng\",\n      \"properties\": {\n        \"dtype\": \"number\",\n        \"std\": 184,\n        \"min\": 0,\n        \"max\": 1550,\n        \"num_unique_values\": 59,\n        \"samples\": [\n          60\n        ],\n        \"semantic_type\": \"\",\n        \"description\": \"\"\n      }\n    }\n  ]\n}"
            }
          },
          "metadata": {},
          "execution_count": 130
        }
      ]
    },
    {
      "cell_type": "markdown",
      "source": [
        "Con la informacion anterior tenemos una buena comprencion de como estan organizados/distribuidos los datos.\n",
        "Tambien que los valores son coherentes con los que se espera."
      ],
      "metadata": {
        "id": "Mzq7WzpZjCmk"
      }
    },
    {
      "cell_type": "markdown",
      "source": [
        "## **2 CAMPOS CÁTEGORICOS**\n",
        "\n",
        "PARA LOS SIGUIENTES CAMPOS:\n",
        "1. **Entity:** Esta columna parece representar el tipo de entidad geométrica, como \"LWPolyline\". Aunque podría argumentarse que es una categoría, en contextos de modelado de datos GIS (Sistemas de Información Geográfica), este tipo de campo a menudo se considera categórico ya que representa diferentes tipos de objetos geométricos (líneas, polígonos, puntos, etc.).\n",
        "2.   **Layer:** Esta columna representa la capa a la que pertenecen los elementos. Las capas pueden considerarse categorías discretas en la organización de objetos en software de CAD o GIS.\n",
        "\n",
        "## SE REALIZA:\n",
        "1.   Métodos unique\n",
        "2.   Histograma\n",
        "3.   Torta\n",
        "4.   Barra"
      ],
      "metadata": {
        "id": "CLpXAN3A9xhc"
      }
    },
    {
      "cell_type": "markdown",
      "source": [
        "##### **CAMPOS UNICOS**"
      ],
      "metadata": {
        "id": "A4nDUiHXgGEr"
      }
    },
    {
      "cell_type": "code",
      "source": [
        "data_frame['Entity'].unique()"
      ],
      "metadata": {
        "colab": {
          "base_uri": "https://localhost:8080/"
        },
        "id": "NO07InOpM9Dv",
        "outputId": "b9c42829-ff93-46c9-f3df-b7dae85f3c35"
      },
      "execution_count": 131,
      "outputs": [
        {
          "output_type": "execute_result",
          "data": {
            "text/plain": [
              "array(['LWPolyline', 'Line', 'Arc'], dtype=object)"
            ]
          },
          "metadata": {},
          "execution_count": 131
        }
      ]
    },
    {
      "cell_type": "code",
      "source": [
        "data_frame['Layer'].unique()"
      ],
      "metadata": {
        "colab": {
          "base_uri": "https://localhost:8080/"
        },
        "outputId": "2dccb174-97df-4448-fc2f-7389edc74dfa",
        "id": "RTLesY6Zujfs"
      },
      "execution_count": 132,
      "outputs": [
        {
          "output_type": "execute_result",
          "data": {
            "text/plain": [
              "array(['vias 13.50', 'VIAS POR CONCLUIR'], dtype=object)"
            ]
          },
          "metadata": {},
          "execution_count": 132
        }
      ]
    },
    {
      "cell_type": "markdown",
      "source": [
        "##### **HISTOGRAMA**\n",
        "La función hist() se utiliza para especificar el número de contenedores o intervalos en los que se dividirá el rango de los datos para crear el histograma. En otras palabras, determina la cantidad de barras que se mostrarán en el histograma.\n",
        "\n",
        "En este caso, bins=10 significa que se crearán 10 contenedores para representar los datos en el histograma. Ajustar el valor de bins puede ayudar a visualizar mejor la distribución de los datos y a detectar patrones o características importantes en ellos. Un número inadecuado de bins puede hacer que el histograma sea demasiado generalizado o demasiado detallado, por lo que elegir el valor correcto es importante para una visualización adecuada de los datos."
      ],
      "metadata": {
        "id": "SWdkVu3XvAAO"
      }
    },
    {
      "cell_type": "code",
      "source": [
        "data_frame.loc[:, 'Entity'].hist(bins=10)\n",
        "plt.show()"
      ],
      "metadata": {
        "colab": {
          "base_uri": "https://localhost:8080/",
          "height": 430
        },
        "id": "a_Rb8hbcvSeF",
        "outputId": "63fd6b74-e16b-4381-e97a-701ae0bdacc5"
      },
      "execution_count": 133,
      "outputs": [
        {
          "output_type": "display_data",
          "data": {
            "text/plain": [
              "<Figure size 640x480 with 1 Axes>"
            ],
            "image/png": "[encoded data removed]"
          },
          "metadata": {}
        }
      ]
    },
    {
      "cell_type": "markdown",
      "source": [
        "Conclusiones:\n",
        "\n",
        "1. La mayoría de los datos se encuentran en los rangos de valores bajos.\n",
        "2. Hay una disminución gradual en la frecuencia de los datos a medida que aumenta el valor.\n",
        "3. Hay un valor atípico en el rango de valores más alto."
      ],
      "metadata": {
        "id": "sbet98bIv8wP"
      }
    },
    {
      "cell_type": "code",
      "source": [
        "data_frame.loc[:, 'Layer'].hist(bins=10)\n",
        "plt.show()"
      ],
      "metadata": {
        "colab": {
          "base_uri": "https://localhost:8080/",
          "height": 430
        },
        "id": "wVqZ9S02klpg",
        "outputId": "93b75b17-722b-4009-c7cc-c20d01d32ed9"
      },
      "execution_count": 134,
      "outputs": [
        {
          "output_type": "display_data",
          "data": {
            "text/plain": [
              "<Figure size 640x480 with 1 Axes>"
            ],
            "image/png": "[encoded data removed]"
          },
          "metadata": {}
        }
      ]
    },
    {
      "cell_type": "markdown",
      "source": [
        "Conclusiones:\n",
        "\n",
        "1. La mayoría de las vías tienen un número bajo de vías por concluir.\n",
        "Hay una disminución gradual en la frecuencia de las vías a medida que aumenta el número de vías por concluir.\n",
        "2. No hay valores atípicos evidentes.\n",
        "3. La forma del histograma es asimétrica a la derecha. Esto significa que hay más vías con un número bajo de vías por concluir que vías con un número alto de vías por concluir.\n",
        "4. La curva del histograma es suave, lo que indica que las vías están distribuidas de manera relativamente uniforme dentro de cada rango."
      ],
      "metadata": {
        "id": "DDRe9OTalXtg"
      }
    },
    {
      "cell_type": "markdown",
      "source": [
        "##### **GRAFICO DE TORTA**"
      ],
      "metadata": {
        "id": "G_fWdArpGylc"
      }
    },
    {
      "cell_type": "code",
      "source": [
        "plt.figure(figsize=(10, 10))\n",
        "plt.pie(data_frame[\"Entity\"].value_counts(), labels=None, autopct=\"%.2f\", startangle=0)\n",
        "plt.legend(data_frame['Entity'].unique(), loc=\"center left\", bbox_to_anchor=(1, 0.5))\n",
        "\n",
        "plt.title('Entity')\n",
        "plt.show()"
      ],
      "metadata": {
        "colab": {
          "base_uri": "https://localhost:8080/",
          "height": 829
        },
        "id": "rRPNUfgCG3jD",
        "outputId": "6309334d-f1ea-445c-c327-7f9491406600"
      },
      "execution_count": 135,
      "outputs": [
        {
          "output_type": "display_data",
          "data": {
            "text/plain": [
              "<Figure size 1000x1000 with 1 Axes>"
            ],
            "image/png": "[encoded data removed]"
          },
          "metadata": {}
        }
      ]
    },
    {
      "cell_type": "markdown",
      "source": [
        "El gráfico circular está dividido en sectores que representan diferentes tipos de entidades:\n",
        "\n",
        "LWPolyline: Polilíneas con ancho de línea\n",
        "Line: Líneas\n",
        "Arc: Arcos\n",
        "\n",
        "Interpretación:\n",
        "\n",
        "1. El tipo de entidad más común es LWPolyline, con un 77.39% del total.\n",
        "2. El segundo tipo de entidad más común es Line, con un 18.97% del total.\n",
        "3. El tipo de entidad menos común es Arc, con un 3.64% del total.\n",
        "\n",
        "Conclusiones:\n",
        "\n",
        "1. Las polilíneas con ancho de línea son el tipo de entidad predominante.\n",
        "2. Las líneas son el segundo tipo de entidad más común.\n",
        "3. Los arcos son el tipo de entidad menos común."
      ],
      "metadata": {
        "id": "SbxSSBOwvzH1"
      }
    },
    {
      "cell_type": "code",
      "source": [
        "plt.figure(figsize=(10, 10))\n",
        "plt.pie(data_frame[\"Layer\"].value_counts(), labels=None, autopct=\"%.2f\", startangle=5)\n",
        "plt.legend(data_frame['Layer'].unique(), loc=\"center left\", bbox_to_anchor=(1, 0.5))\n",
        "\n",
        "plt.title('Layer')\n",
        "plt.show()"
      ],
      "metadata": {
        "colab": {
          "base_uri": "https://localhost:8080/",
          "height": 829
        },
        "id": "sJmSZx5SItll",
        "outputId": "4f68c755-df2e-4a0f-fe75-af2848931cd2"
      },
      "execution_count": 136,
      "outputs": [
        {
          "output_type": "display_data",
          "data": {
            "text/plain": [
              "<Figure size 1000x1000 with 1 Axes>"
            ],
            "image/png": "[encoded data removed]"
          },
          "metadata": {}
        }
      ]
    },
    {
      "cell_type": "markdown",
      "source": [
        "Interpretación:\n",
        "\n",
        "1. El sector de vías concluidas es el más grande, con un 99.62% del total.\n",
        "2. El sector de vías no concluidas es el más pequeño, con un 0.38% del total.\n",
        "\n",
        "Conclusiones:\n",
        "\n",
        "1. La gran mayoría de las vías están concluidas.\n",
        "2. Solo una pequeña porción de las vías está no concluida."
      ],
      "metadata": {
        "id": "xHz7ilfWyTMC"
      }
    },
    {
      "cell_type": "markdown",
      "source": [
        "##### **GRAFICO DE BARRAS**"
      ],
      "metadata": {
        "id": "5lnF-LZTvhzh"
      }
    },
    {
      "cell_type": "code",
      "source": [
        "print(\"\\n GRAFICO DE BARRAS (Entity): \\n\", data_frame[\"Entity\"].value_counts().plot(kind=\"bar\",figsize=(15,6),title=\"Top de Entity más registradas\", fontsize=6))"
      ],
      "metadata": {
        "colab": {
          "base_uri": "https://localhost:8080/",
          "height": 628
        },
        "id": "c1aADQCjG3E1",
        "outputId": "07f9b444-b288-479f-a9be-1d51493a4880"
      },
      "execution_count": 137,
      "outputs": [
        {
          "output_type": "stream",
          "name": "stdout",
          "text": [
            "\n",
            " GRAFICO DE BARRAS (Entity): \n",
            " Axes(0.125,0.11;0.775x0.77)\n"
          ]
        },
        {
          "output_type": "display_data",
          "data": {
            "text/plain": [
              "<Figure size 1500x600 with 1 Axes>"
            ],
            "image/png": "[encoded data removed]"
          },
          "metadata": {}
        }
      ]
    },
    {
      "cell_type": "markdown",
      "source": [
        "Interpretación:\n",
        "\n",
        "1. El tipo de entidad con mayor número de entidades es LWPolyline, con 400 entidades.\n",
        "2. El segundo tipo de entidad con mayor número de entidades es Line, con 350 entidades.\n",
        "3. El tipo de entidad con menor número de entidades es Arc, con 50 entidades.\n",
        "\n",
        "Conclusiones:\n",
        "\n",
        "1. LWPolyline es el tipo de entidad más utilizado.\n",
        "2. Line es el segundo tipo de entidad más utilizado.\n",
        "3. Arc es el tipo de entidad menos utilizado."
      ],
      "metadata": {
        "id": "q3VxlVweufc-"
      }
    },
    {
      "cell_type": "code",
      "source": [
        "print(\"\\n GRAFICO DE BARRAS (Layer): \\n\", data_frame[\"Layer\"].value_counts().plot(kind=\"bar\",figsize=(11,6),title=\"Layer\", fontsize=6))"
      ],
      "metadata": {
        "colab": {
          "base_uri": "https://localhost:8080/",
          "height": 668
        },
        "id": "mD8V1wPhIgVn",
        "outputId": "41dcfb78-1c78-426c-b620-77c050783a0d"
      },
      "execution_count": 138,
      "outputs": [
        {
          "output_type": "stream",
          "name": "stdout",
          "text": [
            "\n",
            " GRAFICO DE BARRAS (Layer): \n",
            " Axes(0.125,0.11;0.775x0.77)\n"
          ]
        },
        {
          "output_type": "display_data",
          "data": {
            "text/plain": [
              "<Figure size 1100x600 with 1 Axes>"
            ],
            "image/png": "[encoded data removed]"
          },
          "metadata": {}
        }
      ]
    },
    {
      "cell_type": "markdown",
      "source": [
        "Interpretación:\n",
        "\n",
        "1. El número de vías concluidas es significativamente mayor que el número de vías no concluidas.\n",
        "2. Hay 13.50 vías concluidas.\n",
        "3. Hay 0.50 vías no concluidas.\n",
        "\n",
        "Conclusiones:\n",
        "\n",
        "1. La gran mayoría de las vías están concluidas.\n",
        "2. Solo una pequeña porción de las vías está no concluida."
      ],
      "metadata": {
        "id": "afS4dQjkv4zf"
      }
    },
    {
      "cell_type": "markdown",
      "source": [
        "## **2 CAMPOS CONTINUOS**\n",
        "\n",
        "PARA LOS SIGUIENTES CAMPOS:\n",
        "1. **Color:** Este campo representa el codigo del color de los elementos y es un valor numérico continuo.\n",
        "2. **Shape_Leng:** Representa la longitud de las entidades, y también es un valor numérico continuo.\n",
        "\n",
        "## SE REALIZA:\n",
        "1.   Métodos unique\n",
        "2.   Histograma\n",
        "3.   Bigote\n",
        "4.   Torta\n",
        "5.   Barra"
      ],
      "metadata": {
        "id": "lAotJh2q0e2V"
      }
    },
    {
      "cell_type": "markdown",
      "source": [
        "##### **CAMPOS UNICOS**"
      ],
      "metadata": {
        "id": "V9OUjRQk0e2W"
      }
    },
    {
      "cell_type": "code",
      "source": [
        "data_frame['Color'].unique()"
      ],
      "metadata": {
        "colab": {
          "base_uri": "https://localhost:8080/"
        },
        "outputId": "29984eb6-1cfd-4e84-e28e-eabd61b2c221",
        "id": "x81bOh0J0e2W"
      },
      "execution_count": 139,
      "outputs": [
        {
          "output_type": "execute_result",
          "data": {
            "text/plain": [
              "array([130,  40])"
            ]
          },
          "metadata": {},
          "execution_count": 139
        }
      ]
    },
    {
      "cell_type": "markdown",
      "source": [
        "130,  40 son los valores unicos en la columna Color"
      ],
      "metadata": {
        "id": "gk1Iwq4Y0e2W"
      }
    },
    {
      "cell_type": "code",
      "source": [
        "data_frame['Shape_Leng'].unique()"
      ],
      "metadata": {
        "colab": {
          "base_uri": "https://localhost:8080/"
        },
        "outputId": "bbf570d5-e02a-405d-c829-dd8740cd8e7f",
        "id": "jV_GEqqD0e2W"
      },
      "execution_count": 140,
      "outputs": [
        {
          "output_type": "execute_result",
          "data": {
            "text/plain": [
              "array([  60,  290,   80,   70,   10,   90,  190,  210,  710,  100,  490,\n",
              "       1550,  390,  200,  130, 1320,  350,  270,  140,   20,   30,  160,\n",
              "        170,    0,  110,  120,  150,   50,   40,  230,  510,  700,  430,\n",
              "        450,  300,  770,  790,  250, 1290,  260,  280,  340,  180, 1410,\n",
              "        620,  320,  380,  220,  240,  310,  500,  780,  520,  330,  650,\n",
              "        660,  460,  480,  410])"
            ]
          },
          "metadata": {},
          "execution_count": 140
        }
      ]
    },
    {
      "cell_type": "markdown",
      "source": [
        "60,  290,   80,   70,   10,   90,  190,  210,  710,  100,  490,\n",
        "1550,  390,  200,  130, 1320,  350,  270,  140,   20,   30,  160,\n",
        "170,    0,  110,  120,  150,   50,   40,  230,  510,  700,  430,\n",
        "450,  300,  770,  790,  250, 1290,  260,  280,  340,  180, 1410,\n",
        "620,  320,  380,  220,  240,  310,  500,  780,  520,  330,  650,\n",
        "660,  460,  480,  410\n",
        "\n",
        "son los valores unicos en la columna Shape_Leng"
      ],
      "metadata": {
        "id": "AUWNClSb0e2X"
      }
    },
    {
      "cell_type": "markdown",
      "source": [
        "##### **HISTOGRAMA**\n",
        "La función hist() se utiliza para especificar el número de contenedores o intervalos en los que se dividirá el rango de los datos para crear el histograma. En otras palabras, determina la cantidad de barras que se mostrarán en el histograma.\n",
        "\n",
        "En este caso, bins=10 significa que se crearán 10 contenedores para representar los datos en el histograma. Ajustar el valor de bins puede ayudar a visualizar mejor la distribución de los datos y a detectar patrones o características importantes en ellos. Un número inadecuado de bins puede hacer que el histograma sea demasiado generalizado o demasiado detallado, por lo que elegir el valor correcto es importante para una visualización adecuada de los datos."
      ],
      "metadata": {
        "id": "tOxpCu5M0e2X"
      }
    },
    {
      "cell_type": "code",
      "source": [
        "data_frame.loc[:, 'Color'].hist(bins=10)\n",
        "plt.show()"
      ],
      "metadata": {
        "colab": {
          "base_uri": "https://localhost:8080/",
          "height": 430
        },
        "outputId": "922e1a5c-64a2-4809-99ff-bc00b9aba83f",
        "id": "C2g_fTny0e2X"
      },
      "execution_count": 141,
      "outputs": [
        {
          "output_type": "display_data",
          "data": {
            "text/plain": [
              "<Figure size 640x480 with 1 Axes>"
            ],
            "image/png": "[encoded data removed]"
          },
          "metadata": {}
        }
      ]
    },
    {
      "cell_type": "markdown",
      "source": [
        "\n",
        "1. La mayoría de los datos se encuentran en los códigos de colores de valores bajos.\n",
        "2. Hay una disminución gradual en la frecuencia de los datos a medida que aumenta el valor del código de color.\n",
        "3. No hay valores atípicos evidentes."
      ],
      "metadata": {
        "id": "oa1Um_JJ0e2X"
      }
    },
    {
      "cell_type": "code",
      "source": [
        "data_frame.loc[:, 'Shape_Leng'].hist(bins=10)\n",
        "plt.show()"
      ],
      "metadata": {
        "colab": {
          "base_uri": "https://localhost:8080/",
          "height": 430
        },
        "outputId": "fcbd00a9-a565-4f12-c375-51c1e595803d",
        "id": "3RhCbfaT0e2Y"
      },
      "execution_count": 142,
      "outputs": [
        {
          "output_type": "display_data",
          "data": {
            "text/plain": [
              "<Figure size 640x480 with 1 Axes>"
            ],
            "image/png": "[encoded data removed]"
          },
          "metadata": {}
        }
      ]
    },
    {
      "cell_type": "markdown",
      "source": [
        "1. La mayoría de los píxeles tienen valores de píxeles bajos.\n",
        "2. Hay una disminución gradual en la frecuencia de los píxeles a medida que aumenta el valor del píxel.\n",
        "3. No hay valores atípicos evidentes."
      ],
      "metadata": {
        "id": "IvGeEIEB0e2Y"
      }
    },
    {
      "cell_type": "markdown",
      "source": [
        "##### **GRAFICO DE BIGOTE**"
      ],
      "metadata": {
        "id": "zvNfkNyp0e2Y"
      }
    },
    {
      "cell_type": "code",
      "source": [
        "data_frame.boxplot(column='Color')\n",
        "plt.title('CAJA DE BIGOTE Color')\n",
        "plt.ylabel('Valor')\n",
        "plt.show()"
      ],
      "metadata": {
        "colab": {
          "base_uri": "https://localhost:8080/",
          "height": 452
        },
        "outputId": "e04204c1-8c58-41c7-b3f1-c441e11acb18",
        "id": "K0I6XogO0e2Y"
      },
      "execution_count": 143,
      "outputs": [
        {
          "output_type": "display_data",
          "data": {
            "text/plain": [
              "<Figure size 640x480 with 1 Axes>"
            ],
            "image/png": "[encoded data removed]"
          },
          "metadata": {}
        }
      ]
    },
    {
      "cell_type": "markdown",
      "source": [
        "Interpretación:\n",
        "\n",
        "1. La mediana de los valores de cada código de color es diferente.\n",
        "2. La distribución de los valores dentro de cada código de color también es diferente.\n",
        "3. Hay algunos valores atípicos en el conjunto de datos.\n",
        "\n",
        "Conclusiones:\n",
        "\n",
        "1. Los códigos de colores no tienen la misma distribución de valores.\n",
        "2. Hay valores atípicos en el conjunto de datos."
      ],
      "metadata": {
        "id": "ED7qN5650e2Y"
      }
    },
    {
      "cell_type": "code",
      "source": [
        "data_frame.boxplot(column='Shape_Leng')\n",
        "plt.title('CAJA DE BIGOTE Shape_Leng')\n",
        "plt.ylabel('Valor')\n",
        "plt.show()"
      ],
      "metadata": {
        "colab": {
          "base_uri": "https://localhost:8080/",
          "height": 452
        },
        "outputId": "bc91e2a7-3a1e-478a-f038-3b211a99b817",
        "id": "XL-HBd2N0e2Y"
      },
      "execution_count": 144,
      "outputs": [
        {
          "output_type": "display_data",
          "data": {
            "text/plain": [
              "<Figure size 640x480 with 1 Axes>"
            ],
            "image/png": "[encoded data removed]"
          },
          "metadata": {}
        }
      ]
    },
    {
      "cell_type": "markdown",
      "source": [
        "Interpretación:\n",
        "\n",
        "1. La mediana de la longitud de la forma es diferente para Shape_Leng.\n",
        "2. La distribución de la longitud de la forma dentro de Shape_Leng también es diferente.\n",
        "3. Hay algunos valores atípicos en el conjunto de datos.\n",
        "\n",
        "Conclusiones:\n",
        "\n",
        "1. La longitud de la forma varía segúne el Shape_Leng.\n",
        "2. Hay valores atípicos en el conjunto de datos."
      ],
      "metadata": {
        "id": "5rErRIZi0e2Z"
      }
    },
    {
      "cell_type": "markdown",
      "source": [
        "##### **GRAFICO DE TORTA**"
      ],
      "metadata": {
        "id": "LvhMhD600e2Z"
      }
    },
    {
      "cell_type": "code",
      "source": [
        "plt.figure(figsize=(10, 10))\n",
        "plt.pie(data_frame[\"Color\"].value_counts(), labels=None, autopct=\"%.2f\", startangle=0)\n",
        "plt.legend(data_frame['Color'].unique(), loc=\"center left\", bbox_to_anchor=(1, 0.5))\n",
        "\n",
        "plt.title('Cod. de Color')\n",
        "plt.show()"
      ],
      "metadata": {
        "colab": {
          "base_uri": "https://localhost:8080/",
          "height": 829
        },
        "outputId": "2fb072f0-82e5-43fe-d030-9c81fe70bb98",
        "id": "k6hRgcXU0e2Z"
      },
      "execution_count": 145,
      "outputs": [
        {
          "output_type": "display_data",
          "data": {
            "text/plain": [
              "<Figure size 1000x1000 with 1 Axes>"
            ],
            "image/png": "[encoded data removed]"
          },
          "metadata": {}
        }
      ]
    },
    {
      "cell_type": "markdown",
      "source": [
        "Interpretación:\n",
        "\n",
        "1. La mayoría de las imágenes en la categoría 130 tienen el color azul.\n",
        "2. La mayoría de las imágenes en la categoría 40 tienen el color verde.\n",
        "3. Hay una pequeña cantidad de imágenes en ambas categorías con otros colores.\n",
        "\n",
        "Conclusiones:\n",
        "\n",
        "1. El color azul es el más prevalente en la categoría 130.\n",
        "2. El color verde es el más prevalente en la categoría 40."
      ],
      "metadata": {
        "id": "OcCxaBQA0e2Z"
      }
    },
    {
      "cell_type": "markdown",
      "source": [
        "##### **GRAFICO DE BARRAS**"
      ],
      "metadata": {
        "id": "kg3Kf9yU0e2a"
      }
    },
    {
      "cell_type": "code",
      "source": [
        "print(\"\\n GRAFICO DE BARRAS (Color): \\n\", data_frame[\"Color\"].value_counts().plot(kind=\"bar\",figsize=(15,6),title=\"Top de Color más registradas\", fontsize=6))"
      ],
      "metadata": {
        "colab": {
          "base_uri": "https://localhost:8080/",
          "height": 599
        },
        "outputId": "bca53017-f768-4f19-c419-c89f947a48a3",
        "id": "X_itzeo-0e2a"
      },
      "execution_count": 147,
      "outputs": [
        {
          "output_type": "stream",
          "name": "stdout",
          "text": [
            "\n",
            " GRAFICO DE BARRAS (Color): \n",
            " Axes(0.125,0.11;0.775x0.77)\n"
          ]
        },
        {
          "output_type": "display_data",
          "data": {
            "text/plain": [
              "<Figure size 1500x600 with 1 Axes>"
            ],
            "image/png": "[encoded data removed]"
          },
          "metadata": {}
        }
      ]
    },
    {
      "cell_type": "markdown",
      "source": [
        "Interpretación:\n",
        "\n",
        "1. Hay más imágenes en la categoría 130 que en la categoría 40.\n",
        "2. El color azul es el más prevalente en la categoría 130.\n",
        "3. El color verde es el más prevalente en la categoría 40.\n",
        "\n",
        "Conclusiones:\n",
        "\n",
        "1. La categoría 130 tiene más imágenes que la categoría 40.\n",
        "2. El color azul es el más prevalente en la categoría 130.\n",
        "3. El color verde es el más prevalente en la categoría 40."
      ],
      "metadata": {
        "id": "czakCraI0e2a"
      }
    },
    {
      "cell_type": "code",
      "source": [
        "print(\"\\n GRAFICO DE BARRAS (Shape_Leng): \\n\", data_frame[\"Shape_Leng\"].value_counts().plot(kind=\"bar\",figsize=(11,6),title=\"Shape_Leng\", fontsize=6))"
      ],
      "metadata": {
        "colab": {
          "base_uri": "https://localhost:8080/",
          "height": 604
        },
        "outputId": "70fce125-5d51-4e8f-af92-6df34ac22d9b",
        "id": "Q4Jiw08t0e2a"
      },
      "execution_count": 148,
      "outputs": [
        {
          "output_type": "stream",
          "name": "stdout",
          "text": [
            "\n",
            " GRAFICO DE BARRAS (Shape_Leng): \n",
            " Axes(0.125,0.11;0.775x0.77)\n"
          ]
        },
        {
          "output_type": "display_data",
          "data": {
            "text/plain": [
              "<Figure size 1100x600 with 1 Axes>"
            ],
            "image/png": "[encoded data removed]"
          },
          "metadata": {}
        }
      ]
    },
    {
      "cell_type": "markdown",
      "source": [
        "Interpretación:\n",
        "\n",
        "1. La distribución de la longitud de la forma varía según la columna Shape_leng.\n",
        "2. En la categoría 130, hay más Shape_leng con longitudes de forma entre 100 y 200.\n",
        "3. En la categoría 40, hay más Shape_leng con longitudes de forma entre 200 y 300.\n",
        "\n",
        "Conclusiones:\n",
        "\n",
        "1. La longitud de la forma varía según la columna Shape_leng.\n",
        "2. Hay una mayor concentración de Shape_leng en diferentes rangos de longitud de forma en cada categoría."
      ],
      "metadata": {
        "id": "itMv4uaf53OI"
      }
    },
    {
      "cell_type": "markdown",
      "source": [
        "## **METODOS DE SUSTITUCIÓN**"
      ],
      "metadata": {
        "id": "ilXQrbDH9D6J"
      }
    },
    {
      "cell_type": "markdown",
      "source": [
        "### SE TOMA EL CAMPO CONTINUO\n",
        "\n",
        "Para estos ejercicios de la actividad utilizaremos el campo 'Shape_Leng'."
      ],
      "metadata": {
        "id": "WpLF83JR0e2a"
      }
    },
    {
      "cell_type": "markdown",
      "source": [
        "##### **MEDIA**\n",
        "\n",
        "La media aritmética se define como la suma de N elementos dividida entre N. Se trata una medida bastante conocida entre la gente, aunque tiene el inconveniente de que es muy susceptible a valores extremos. En pandas, el método que funciona para obtener el promedio o la media es mean()."
      ],
      "metadata": {
        "id": "9EFkF10iGPn2"
      }
    },
    {
      "cell_type": "code",
      "source": [
        "print(\"Promedio: \\n\")\n",
        "data_frame['Shape_Leng'].mean()"
      ],
      "metadata": {
        "colab": {
          "base_uri": "https://localhost:8080/"
        },
        "id": "sq57dKUgOH0R",
        "outputId": "7e82fdf8-2902-45fc-9d05-6f2068a9793e"
      },
      "execution_count": 149,
      "outputs": [
        {
          "output_type": "stream",
          "name": "stdout",
          "text": [
            "Promedio: \n",
            "\n"
          ]
        },
        {
          "output_type": "execute_result",
          "data": {
            "text/plain": [
              "120.09578544061303"
            ]
          },
          "metadata": {},
          "execution_count": 149
        }
      ]
    },
    {
      "cell_type": "markdown",
      "source": [
        "El resultado del código es un valor numérico: 120.09578544061303. Este valor representa el promedio de la longitud de la forma (Shape_Leng) en todas las filas del data_frame.\n",
        "\n",
        "Interpretación: En términos generales, esto significa que la longitud de forma promedio de las entidades en el data_frame es de 120.09578544061303 unidades."
      ],
      "metadata": {
        "id": "1oQ6wt7lIVuM"
      }
    },
    {
      "cell_type": "markdown",
      "source": [
        "##### **MODA**\n",
        "\n",
        "En Pandas, el método mode() se utiliza para calcular la moda de un DataFrame o de una Serie. La moda representa el valor que aparece con mayor frecuencia en un conjunto de datos.\n",
        "\n",
        "Cuando aplicas mode() a un DataFrame, el método devuelve un nuevo DataFrame que contiene las modas de cada columna. Si hay varios valores que son igualmente frecuentes y son la moda, mode() devolverá todos esos valores."
      ],
      "metadata": {
        "id": "b-hFHwCYdxRJ"
      }
    },
    {
      "cell_type": "code",
      "source": [
        "print(\"Moda: \\n\")\n",
        "data_frame['Shape_Leng'].mode()[0]"
      ],
      "metadata": {
        "colab": {
          "base_uri": "https://localhost:8080/"
        },
        "id": "ugp5Rjh2eWYx",
        "outputId": "2e13e486-d303-4783-e1bd-5950934351db"
      },
      "execution_count": 150,
      "outputs": [
        {
          "output_type": "stream",
          "name": "stdout",
          "text": [
            "Moda: \n",
            "\n"
          ]
        },
        {
          "output_type": "execute_result",
          "data": {
            "text/plain": [
              "10"
            ]
          },
          "metadata": {},
          "execution_count": 150
        }
      ]
    },
    {
      "cell_type": "markdown",
      "source": [
        "El resultado del código es un valor numérico: 10. Este valor representa la longitud de la forma que aparece con mayor frecuencia en el data_frame.\n",
        "\n",
        "Interpretación: En términos generales, esto significa que la longitud de forma más común de las entidades en el data_frame es de 10 unidades."
      ],
      "metadata": {
        "id": "YA1yNmxMIpOd"
      }
    },
    {
      "cell_type": "markdown",
      "source": [
        "##### **MEDIANA**\n",
        "La mediana es el valor que dentro del conjunto de datos es menor que el 50% de los datos y mayor que el 50% restante. En pandas, el método que funciona para obtener el promedio o la media es **median()**."
      ],
      "metadata": {
        "id": "QcBE3nT8e0DD"
      }
    },
    {
      "cell_type": "code",
      "source": [
        "print(\"Mediana: \\n\")\n",
        "data_frame['Shape_Leng'].median()"
      ],
      "metadata": {
        "colab": {
          "base_uri": "https://localhost:8080/"
        },
        "id": "t7f16YDUfrMp",
        "outputId": "e85cd281-337b-48b1-cdc6-5e4d5bc86699"
      },
      "execution_count": 151,
      "outputs": [
        {
          "output_type": "stream",
          "name": "stdout",
          "text": [
            "Mediana: \n",
            "\n"
          ]
        },
        {
          "output_type": "execute_result",
          "data": {
            "text/plain": [
              "70.0"
            ]
          },
          "metadata": {},
          "execution_count": 151
        }
      ]
    },
    {
      "cell_type": "markdown",
      "source": [
        "El resultado del código es un valor numérico: 70.0. Este valor representa la longitud de la forma que divide al data_frame en dos mitades iguales, con la mitad de las entidades con longitudes de forma menores a 70.0 y la otra mitad con longitudes de forma mayores a 70.0.\n",
        "\n",
        "Interpretación: En términos generales, esto significa que la mitad de las entidades en el data_frame tienen una longitud de forma menor o igual a 70 unidades y la otra mitad tiene una longitud de forma mayor o igual a 70 unidades."
      ],
      "metadata": {
        "id": "g4bc0LU5I1Z7"
      }
    },
    {
      "cell_type": "markdown",
      "source": [
        "##### ALMACENAR LA MEDIA, MODA Y MEDIANA EN VARIABLES"
      ],
      "metadata": {
        "id": "4y9t-QrdLc_g"
      }
    },
    {
      "cell_type": "code",
      "source": [
        "media = data_frame['Shape_Leng'].mean()\n",
        "mediana = data_frame['Shape_Leng'].median()\n",
        "moda = data_frame['Shape_Leng'].mode()[0]\n",
        "\n",
        "# Almacena los resultados en un diccionario\n",
        "resultados_originales = {'Media': media, 'Mediana': mediana, 'Moda': moda}\n",
        "resultados_originales"
      ],
      "metadata": {
        "colab": {
          "base_uri": "https://localhost:8080/"
        },
        "id": "lToXpu0OLDi3",
        "outputId": "268ba0bc-ab06-4f2c-b7d6-12a71d8f6236"
      },
      "execution_count": 152,
      "outputs": [
        {
          "output_type": "execute_result",
          "data": {
            "text/plain": [
              "{'Media': 120.09578544061303, 'Mediana': 70.0, 'Moda': 10}"
            ]
          },
          "metadata": {},
          "execution_count": 152
        }
      ]
    },
    {
      "cell_type": "markdown",
      "source": [
        "##### CREAR COPIA DEL DATAFRAME"
      ],
      "metadata": {
        "id": "smOkIn9FLu02"
      }
    },
    {
      "cell_type": "code",
      "source": [
        "# Realiza una copia del DataFrame para realizar las sustituciones\n",
        "copia_df_media = data_frame.copy()\n",
        "copia_df_mediana = data_frame.copy()\n",
        "copia_df_moda = data_frame.copy()"
      ],
      "metadata": {
        "id": "1svE4MDSL0XS"
      },
      "execution_count": 153,
      "outputs": []
    },
    {
      "cell_type": "markdown",
      "source": [
        "##### ELIMINAR AL AZAR EL 10% DE REGISTROS"
      ],
      "metadata": {
        "id": "yaLlYsRBMsJM"
      }
    },
    {
      "cell_type": "code",
      "source": [
        "# Elimina al azar el 10% de registros de cada copia del DataFrame\n",
        "total_rows = len(data_frame)\n",
        "rows_to_drop = int(total_rows * 0.1)\n",
        "\n",
        "rows_indices_to_drop = data_frame.sample(n=rows_to_drop, random_state=42).index\n",
        "\n",
        "copia_df_media.drop(index=rows_indices_to_drop, inplace=True)\n",
        "copia_df_mediana.drop(index=rows_indices_to_drop, inplace=True)\n",
        "copia_df_moda.drop(index=rows_indices_to_drop, inplace=True)"
      ],
      "metadata": {
        "id": "5Go5jJxZMtPK"
      },
      "execution_count": 154,
      "outputs": []
    },
    {
      "cell_type": "markdown",
      "source": [
        "##### SUSTITUCION POR MEDIA, MODA, MEDIANA"
      ],
      "metadata": {
        "id": "Cb95ZmpdDNdG"
      }
    },
    {
      "cell_type": "code",
      "source": [
        "# Sustituye los valores faltantes en cada copia del DataFrame\n",
        "copia_df_media['Shape_Leng'].fillna(media, inplace=True)\n",
        "copia_df_mediana['Shape_Leng'].fillna(mediana, inplace=True)\n",
        "copia_df_moda['Shape_Leng'].fillna(moda, inplace=True)"
      ],
      "metadata": {
        "id": "qMryIn5oDV9R"
      },
      "execution_count": 155,
      "outputs": []
    },
    {
      "cell_type": "markdown",
      "source": [
        "##### COMPARACION DE LOS RESULTADOS"
      ],
      "metadata": {
        "id": "-HPlLLM9HDif"
      }
    },
    {
      "cell_type": "code",
      "source": [
        "# Calcula nuevamente la media, mediana y moda para cada copia del DataFrame\n",
        "media_media = copia_df_media['Shape_Leng'].mean()\n",
        "mediana_mediana = copia_df_mediana['Shape_Leng'].median()\n",
        "moda_moda = copia_df_moda['Shape_Leng'].mode()[0]\n",
        "\n",
        "# Almacena los resultados de las medidas de tendencia central después de la sustitución\n",
        "resultados_sustitucion = {'Media': media_media, 'Mediana': mediana_mediana, 'Moda': moda_moda}"
      ],
      "metadata": {
        "id": "1xzYjIacHEuF"
      },
      "execution_count": 156,
      "outputs": []
    },
    {
      "cell_type": "code",
      "source": [
        "# Compara los resultados\n",
        "print(\"Resultados originales:\")\n",
        "print(resultados_originales)\n",
        "print(\"\\nResultados después de la sustitución:\")\n",
        "print(resultados_sustitucion)"
      ],
      "metadata": {
        "colab": {
          "base_uri": "https://localhost:8080/"
        },
        "id": "lJ1vyfwjHbX4",
        "outputId": "3f1eba6b-00a3-4f3f-ee42-193b344ddfcf"
      },
      "execution_count": 157,
      "outputs": [
        {
          "output_type": "stream",
          "name": "stdout",
          "text": [
            "Resultados originales:\n",
            "{'Media': 120.09578544061303, 'Mediana': 70.0, 'Moda': 10}\n",
            "\n",
            "Resultados después de la sustitución:\n",
            "{'Media': 118.36170212765957, 'Mediana': 70.0, 'Moda': 10}\n"
          ]
        }
      ]
    },
    {
      "cell_type": "markdown",
      "source": [
        "##### CONCLUSION"
      ],
      "metadata": {
        "id": "FPgnZWRzI9ha"
      }
    },
    {
      "cell_type": "markdown",
      "source": [
        "Basándonos en los resultados obtenidos:\n",
        "\n",
        "**Media:** Después de la sustitución, la media se redujo ligeramente de 120.10 a 118.36. Esto podría sugerir que los valores faltantes sustituidos con la media tienden a ser más bajos que la media original, lo que puede deberse a la eliminación aleatoria del 10% de los registros, que podría haber incluido algunos valores atípicos altos.\n",
        "\n",
        "**Mediana:** La mediana se mantuvo sin cambios en 70.0 antes y después de la sustitución. Esto indica que la mediana no se vio afectada por la sustitución de valores faltantes.\n",
        "\n",
        "**Moda:** La moda también se mantuvo sin cambios en 10 antes y después de la sustitución. Esto sugiere que la moda no se vio afectada por la eliminación y sustitución de valores faltantes.\n",
        "\n",
        "En conclusión:\n",
        "\n",
        "La mediana y la moda se mantuvieron sin cambios antes y después de la sustitución, lo que indica que son medidas robustas y no se ven afectadas por la eliminación y sustitución de valores atípicos o faltantes.\n",
        "\n",
        "La media disminuyó ligeramente después de la sustitución, lo que sugiere que los valores faltantes sustituidos tienden a ser más bajos que la media original. Esto podría deberse a la eliminación aleatoria de registros que podría haber incluido algunos valores atípicos altos."
      ],
      "metadata": {
        "id": "DvJXf4SBH654"
      }
    }
  ]
}